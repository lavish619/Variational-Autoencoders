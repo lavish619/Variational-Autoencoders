{
 "cells": [
  {
   "cell_type": "code",
   "execution_count": 170,
   "metadata": {},
   "outputs": [],
   "source": [
    "import tensorflow as tf\n",
    "import numpy as np\n",
    "from tensorflow.keras import Model, layers\n",
    "from tensorflow.keras.layers import Conv2D, Flatten, Dense, Reshape\n",
    "import matplotlib.pyplot as plt"
   ]
  },
  {
   "cell_type": "code",
   "execution_count": 171,
   "metadata": {},
   "outputs": [],
   "source": [
    "(x_train, y_train),(x_test,y_test) = tf.keras.datasets.mnist.load_data()"
   ]
  },
  {
   "cell_type": "code",
   "execution_count": 172,
   "metadata": {},
   "outputs": [],
   "source": [
    "class Sampling(layers.Layer):\n",
    "    \"\"\"Uses (mean, log_var) to sample z, the vector encoding a digit.\"\"\"\n",
    "\n",
    "    def call(self, inputs):\n",
    "        z_mean, z_log_var = inputs\n",
    "        epsilon = tf.keras.backend.random_normal(shape=tf.shape(z_mean))\n",
    "        return z_mean + tf.exp(0.5* z_log_var) * epsilon\n",
    "\n",
    "\n",
    "\n"
   ]
  },
  {
   "cell_type": "markdown",
   "metadata": {},
   "source": [
    "class Encoder(Model):\n",
    "    def __init__(self):\n",
    "        super(Encoder, self).__init__()\n",
    "        \n",
    "    \n",
    "    def call(self, inputs, latent_dim, summary = True):\n",
    "        x = Flatten()(inputs)\n",
    "        x = Dense(512, activation=\"relu\")(x)\n",
    "        \n",
    "        mean = Dense(latent_dim, name=\"mean\")(x)\n",
    "        std_dev = Dense(latent_dim, name=\"log_var\")(x)\n",
    "        \n",
    "        sampled = Sampling()([mean, std_dev])\n",
    "        \n",
    "        self.encoder = Model(inputs, sampled, name = \"Encoder\")\n",
    "        if summary:\n",
    "            print(self.encoder.summary())\n",
    "        return self.encoder\n"
   ]
  },
  {
   "cell_type": "markdown",
   "metadata": {},
   "source": [
    "class Decoder(Model):\n",
    "    def __init__(self, ):\n",
    "        super(Decoder, self).__init__()\n",
    "        \n",
    "    def call(self, latent_input, output_shape, summary = True):\n",
    "        x = Dense(512, activation=\"relu\")(latent_input)\n",
    "        x = Dense(784, activation=\"relu\")(x)\n",
    "        output = Reshape(output_shape)(x)\n",
    "        \n",
    "        self.decoder = Model(latent_input, output, name=\"Decoder\")\n",
    "        \n",
    "        if summary:\n",
    "            self.decoder.summary()\n",
    "        return self.decoder\n"
   ]
  },
  {
   "cell_type": "code",
   "execution_count": 178,
   "metadata": {},
   "outputs": [],
   "source": [
    "class VAE(Model):\n",
    "    def __init__(self, img_shape, latent_dim, summary = True):\n",
    "        super(VAE, self).__init__()\n",
    "        \n",
    "        self.inputs = tf.keras.Input(shape= img_shape)\n",
    "        self.sampled = encoder(self.inputs, latent_dim )\n",
    "        self.output_layer = decoder(self.sampled, img_shape)\n",
    "#         self.latent_inputs = tf.keras.Input(shape= (latent_dim,))        \n",
    "    \n",
    "    def call(self, get_encoder = False, get_decoder = False):\n",
    "        self.vae = Model(self.inputs, self.output_layer, name = \"VAE\")\n",
    "        return self.vae\n",
    "#         if get encoder\n",
    "        \n",
    "    def encoder(self,  inputs, latent_dim, ):\n",
    "        x = Flatten()(inputs)\n",
    "        x = Dense(512, activation=\"relu\")(x)\n",
    "        \n",
    "        mean = Dense(latent_dim, name=\"mean\")(x)\n",
    "        std_dev = Dense(latent_dim, name=\"log_var\")(x)\n",
    "        \n",
    "        sampled = Sampling()([mean, std_dev])\n",
    "        \n",
    "#         self.encoder = Model(inputs, sampled, name = \"Encoder\")\n",
    "#         if summary:\n",
    "#             print(self.encoder.summary())\n",
    "        return sampled\n",
    "    \n",
    "    def decoder(self,latent_input, output_shape ):\n",
    "        x = Dense(512, activation=\"relu\")(latent_input)\n",
    "        x = Dense(784, activation=\"relu\")(x)\n",
    "        output = Reshape(output_shape)(x)\n",
    "        \n",
    "#         self.decoder = Model(latent_input, output, name=\"Decoder\")\n",
    "        \n",
    "#         if summary:\n",
    "#             self.decoder.summary()\n",
    "        return output\n",
    "        \n",
    "        \n",
    "        "
   ]
  },
  {
   "cell_type": "code",
   "execution_count": 181,
   "metadata": {},
   "outputs": [
    {
     "ename": "ValueError",
     "evalue": "The first argument to `Layer.call` must always be passed.",
     "output_type": "error",
     "traceback": [
      "\u001b[1;31m---------------------------------------------------------------------------\u001b[0m",
      "\u001b[1;31mValueError\u001b[0m                                Traceback (most recent call last)",
      "\u001b[1;32m<ipython-input-181-b2ce142bab47>\u001b[0m in \u001b[0;36m<module>\u001b[1;34m\u001b[0m\n\u001b[0;32m      2\u001b[0m \u001b[0mimg_shape\u001b[0m \u001b[1;33m=\u001b[0m \u001b[1;33m(\u001b[0m\u001b[1;36m28\u001b[0m\u001b[1;33m,\u001b[0m \u001b[1;36m28\u001b[0m\u001b[1;33m,\u001b[0m \u001b[1;36m1\u001b[0m\u001b[1;33m)\u001b[0m\u001b[1;33m\u001b[0m\u001b[1;33m\u001b[0m\u001b[0m\n\u001b[0;32m      3\u001b[0m \u001b[1;33m\u001b[0m\u001b[0m\n\u001b[1;32m----> 4\u001b[1;33m \u001b[0mvae\u001b[0m \u001b[1;33m=\u001b[0m \u001b[0mVAE\u001b[0m\u001b[1;33m(\u001b[0m\u001b[0minput_shape\u001b[0m\u001b[1;33m,\u001b[0m \u001b[0mlatent_dim\u001b[0m\u001b[1;33m)\u001b[0m\u001b[1;33m(\u001b[0m\u001b[1;33m)\u001b[0m\u001b[1;33m\u001b[0m\u001b[1;33m\u001b[0m\u001b[0m\n\u001b[0m",
      "\u001b[1;32m~\\AppData\\Roaming\\Python\\Python37\\site-packages\\tensorflow\\python\\keras\\engine\\base_layer.py\u001b[0m in \u001b[0;36m__call__\u001b[1;34m(self, *args, **kwargs)\u001b[0m\n\u001b[0;32m    914\u001b[0m     \u001b[1;31m#   not to any other argument.\u001b[0m\u001b[1;33m\u001b[0m\u001b[1;33m\u001b[0m\u001b[1;33m\u001b[0m\u001b[0m\n\u001b[0;32m    915\u001b[0m     \u001b[1;31m# - setting the SavedModel saving spec.\u001b[0m\u001b[1;33m\u001b[0m\u001b[1;33m\u001b[0m\u001b[1;33m\u001b[0m\u001b[0m\n\u001b[1;32m--> 916\u001b[1;33m     \u001b[0minputs\u001b[0m\u001b[1;33m,\u001b[0m \u001b[0margs\u001b[0m\u001b[1;33m,\u001b[0m \u001b[0mkwargs\u001b[0m \u001b[1;33m=\u001b[0m \u001b[0mself\u001b[0m\u001b[1;33m.\u001b[0m\u001b[0m_split_out_first_arg\u001b[0m\u001b[1;33m(\u001b[0m\u001b[0margs\u001b[0m\u001b[1;33m,\u001b[0m \u001b[0mkwargs\u001b[0m\u001b[1;33m)\u001b[0m\u001b[1;33m\u001b[0m\u001b[1;33m\u001b[0m\u001b[0m\n\u001b[0m\u001b[0;32m    917\u001b[0m     \u001b[0minput_list\u001b[0m \u001b[1;33m=\u001b[0m \u001b[0mnest\u001b[0m\u001b[1;33m.\u001b[0m\u001b[0mflatten\u001b[0m\u001b[1;33m(\u001b[0m\u001b[0minputs\u001b[0m\u001b[1;33m)\u001b[0m\u001b[1;33m\u001b[0m\u001b[1;33m\u001b[0m\u001b[0m\n\u001b[0;32m    918\u001b[0m \u001b[1;33m\u001b[0m\u001b[0m\n",
      "\u001b[1;32m~\\AppData\\Roaming\\Python\\Python37\\site-packages\\tensorflow\\python\\keras\\engine\\base_layer.py\u001b[0m in \u001b[0;36m_split_out_first_arg\u001b[1;34m(self, args, kwargs)\u001b[0m\n\u001b[0;32m   2978\u001b[0m     \u001b[1;32melse\u001b[0m\u001b[1;33m:\u001b[0m\u001b[1;33m\u001b[0m\u001b[1;33m\u001b[0m\u001b[0m\n\u001b[0;32m   2979\u001b[0m       raise ValueError(\n\u001b[1;32m-> 2980\u001b[1;33m           'The first argument to `Layer.call` must always be passed.')\n\u001b[0m\u001b[0;32m   2981\u001b[0m     \u001b[1;32mreturn\u001b[0m \u001b[0minputs\u001b[0m\u001b[1;33m,\u001b[0m \u001b[0margs\u001b[0m\u001b[1;33m,\u001b[0m \u001b[0mkwargs\u001b[0m\u001b[1;33m\u001b[0m\u001b[1;33m\u001b[0m\u001b[0m\n\u001b[0;32m   2982\u001b[0m \u001b[1;33m\u001b[0m\u001b[0m\n",
      "\u001b[1;31mValueError\u001b[0m: The first argument to `Layer.call` must always be passed."
     ]
    }
   ],
   "source": [
    "latent_dim = 2\n",
    "img_shape = (28, 28, 1)\n",
    "\n",
    "vae = VAE(input_shape, latent_dim)()"
   ]
  },
  {
   "cell_type": "code",
   "execution_count": null,
   "metadata": {},
   "outputs": [],
   "source": []
  }
 ],
 "metadata": {
  "kernelspec": {
   "display_name": "Python 3",
   "language": "python",
   "name": "python3"
  },
  "language_info": {
   "codemirror_mode": {
    "name": "ipython",
    "version": 3
   },
   "file_extension": ".py",
   "mimetype": "text/x-python",
   "name": "python",
   "nbconvert_exporter": "python",
   "pygments_lexer": "ipython3",
   "version": "3.7.6"
  }
 },
 "nbformat": 4,
 "nbformat_minor": 4
}
